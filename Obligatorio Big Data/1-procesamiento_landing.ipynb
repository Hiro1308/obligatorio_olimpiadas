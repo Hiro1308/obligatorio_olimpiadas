{
 "cells": [
  {
   "cell_type": "code",
   "id": "initial_id",
   "metadata": {
    "collapsed": true
   },
   "source": [
    "import pandas as pd\n",
    "import os"
   ],
   "outputs": [],
   "execution_count": null
  },
  {
   "metadata": {},
   "cell_type": "markdown",
   "source": [
    "Objetivos: \n",
    "- Leer los archivos de la zona de landing, verificar que se pueden acceder. \n",
    "- Crear archivos en la zona raw para continuar con el análisis y enriquecimiento."
   ],
   "id": "e17175d22ace7971"
  },
  {
   "metadata": {},
   "cell_type": "code",
   "source": [
    "# Funciones para leer archivos CSV y PKL\n",
    "def leer_csv(ruta):\n",
    "    try:\n",
    "        df = pd.read_csv(ruta)\n",
    "        return df\n",
    "    except Exception as e:\n",
    "        print(f\"Error al leer el archivo CSV '{ruta}': {e}\")\n",
    "        return None\n",
    "\n",
    "def leer_pkl(ruta):\n",
    "    try:\n",
    "        df = pd.read_pickle(ruta)\n",
    "        return df\n",
    "    except Exception as e:\n",
    "        print(f\"Error al leer el archivo PKL '{ruta}': {e}\")\n",
    "        return None\n",
    "\n",
    "# Directorio de la zona de landing y raw\n",
    "directorio_landing = 'datos/landing'\n",
    "directorio_raw = 'datos/raw'\n",
    "\n",
    "# Asegurarse de que el directorio de raw existe\n",
    "os.makedirs(directorio_raw, exist_ok=True)\n",
    "\n",
    "# Verificar cada archivo en la zona de landing\n",
    "for nombre_archivo in os.listdir(directorio_landing):\n",
    "    ruta_archivo_landing = os.path.join(directorio_landing, nombre_archivo)\n",
    "    \n",
    "    if nombre_archivo.endswith('.csv'):\n",
    "        df = leer_csv(ruta_archivo_landing)\n",
    "    elif nombre_archivo.endswith('.pkl'):\n",
    "        df = leer_pkl(ruta_archivo_landing)\n",
    "    else:\n",
    "        print(f\"Archivo '{nombre_archivo}' ignorado. Formato no soportado.\")\n",
    "        continue\n",
    "    \n",
    "    if df is not None:\n",
    "        # Guardar el archivo en la zona raw\n",
    "        ruta_archivo_raw = os.path.join(directorio_raw, nombre_archivo)\n",
    "        \n",
    "        if nombre_archivo.endswith('.csv'):\n",
    "            df.to_csv(ruta_archivo_raw, index=False)\n",
    "        elif nombre_archivo.endswith('.pkl'):\n",
    "            df.to_pickle(ruta_archivo_raw)\n",
    "            df.to_csv(ruta_archivo_raw.replace('.pkl', '_from_pkl.csv'), index=False)\n",
    "        \n",
    "        print(f\"Archivo '{nombre_archivo}' guardado en la zona raw.\")\n",
    "    else:\n",
    "        print(f\"El archivo '{nombre_archivo}' no pudo ser leído.\")\n"
   ],
   "id": "53a975c31f2dc556",
   "outputs": [],
   "execution_count": null
  }
 ],
 "metadata": {
  "kernelspec": {
   "display_name": "Python 3",
   "language": "python",
   "name": "python3"
  },
  "language_info": {
   "codemirror_mode": {
    "name": "ipython",
    "version": 2
   },
   "file_extension": ".py",
   "mimetype": "text/x-python",
   "name": "python",
   "nbconvert_exporter": "python",
   "pygments_lexer": "ipython2",
   "version": "2.7.6"
  }
 },
 "nbformat": 4,
 "nbformat_minor": 5
}
