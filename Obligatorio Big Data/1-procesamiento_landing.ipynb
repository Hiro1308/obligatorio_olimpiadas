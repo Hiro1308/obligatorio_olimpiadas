{
 "cells": [
  {
   "cell_type": "markdown",
   "id": "e17175d22ace7971",
   "metadata": {},
   "source": [
    "## Procesamiento Landing\n",
    "### Objetivos: \n",
    "- Leer los archivos de la zona de landing, verificar que se pueden acceder. \n",
    "- Crear archivos en la zona raw para continuar con el análisis y enriquecimiento."
   ]
  },
  {
   "cell_type": "code",
   "id": "44fc9374ca1ed76e",
   "metadata": {
    "ExecuteTime": {
     "end_time": "2024-07-08T01:24:36.009010Z",
     "start_time": "2024-07-08T01:24:34.540364Z"
    }
   },
   "source": [
    "%pip install numpy==1.26.4 pandas==2.2.2"
   ],
   "outputs": [
    {
     "name": "stdout",
     "output_type": "stream",
     "text": [
      "Requirement already satisfied: numpy==1.26.4 in /Users/cdelatorre/Documents/GitHub/obligatorio_olimpiadas/.venv/lib/python3.10/site-packages (1.26.4)\r\n",
      "Requirement already satisfied: pandas==2.2.2 in /Users/cdelatorre/Documents/GitHub/obligatorio_olimpiadas/.venv/lib/python3.10/site-packages (2.2.2)\r\n",
      "Requirement already satisfied: python-dateutil>=2.8.2 in /Users/cdelatorre/Documents/GitHub/obligatorio_olimpiadas/.venv/lib/python3.10/site-packages (from pandas==2.2.2) (2.9.0.post0)\r\n",
      "Requirement already satisfied: pytz>=2020.1 in /Users/cdelatorre/Documents/GitHub/obligatorio_olimpiadas/.venv/lib/python3.10/site-packages (from pandas==2.2.2) (2024.1)\r\n",
      "Requirement already satisfied: tzdata>=2022.7 in /Users/cdelatorre/Documents/GitHub/obligatorio_olimpiadas/.venv/lib/python3.10/site-packages (from pandas==2.2.2) (2024.1)\r\n",
      "Requirement already satisfied: six>=1.5 in /Users/cdelatorre/Documents/GitHub/obligatorio_olimpiadas/.venv/lib/python3.10/site-packages (from python-dateutil>=2.8.2->pandas==2.2.2) (1.16.0)\r\n",
      "Note: you may need to restart the kernel to use updated packages.\n"
     ]
    }
   ],
   "execution_count": 10
  },
  {
   "cell_type": "code",
   "id": "initial_id",
   "metadata": {
    "ExecuteTime": {
     "end_time": "2024-07-08T01:24:36.020449Z",
     "start_time": "2024-07-08T01:24:36.015271Z"
    }
   },
   "source": [
    "from pathlib import Path\n",
    "\n",
    "import pandas as pd"
   ],
   "outputs": [],
   "execution_count": 11
  },
  {
   "cell_type": "code",
   "id": "53a975c31f2dc556",
   "metadata": {
    "ExecuteTime": {
     "end_time": "2024-07-08T01:24:43.879092Z",
     "start_time": "2024-07-08T01:24:36.023219Z"
    }
   },
   "source": [
    "# Funciones para leer archivos CSV y PKL\n",
    "def leer_csv(ruta):\n",
    "    try:\n",
    "        df = pd.read_csv(ruta)\n",
    "        return df\n",
    "    except Exception as e:\n",
    "        print(f\"Error al leer el archivo CSV '{ruta}': {e}\")\n",
    "        return None\n",
    "\n",
    "\n",
    "def leer_pkl(ruta):\n",
    "    try:\n",
    "        df = pd.read_pickle(ruta)\n",
    "        return df\n",
    "    except Exception as e:\n",
    "        print(f\"Error al leer el archivo PKL '{ruta}': {e}\")\n",
    "        return None\n",
    "\n",
    "\n",
    "# Directorios de las zonas landing y raw\n",
    "directorio_landing = Path('datos/landing')\n",
    "directorio_raw = Path('datos/raw')\n",
    "\n",
    "# Asegurarse de que el directorio de raw existe\n",
    "directorio_raw.mkdir(parents=True, exist_ok=True)\n",
    "\n",
    "# Verificar cada archivo en la zona de landing\n",
    "for ruta_archivo_landing in directorio_landing.iterdir():\n",
    "    nombre_archivo = ruta_archivo_landing.name\n",
    "\n",
    "    if ruta_archivo_landing.suffix == '.csv':\n",
    "        df = leer_csv(ruta_archivo_landing)\n",
    "    elif ruta_archivo_landing.suffix == '.pkl':\n",
    "        df = leer_pkl(ruta_archivo_landing)\n",
    "    else:\n",
    "        print(f\"Archivo '{nombre_archivo}' ignorado. Formato no soportado.\")\n",
    "        continue\n",
    "\n",
    "    if df is not None:\n",
    "        # Guardar el archivo en la zona raw\n",
    "        ruta_archivo_raw = directorio_raw / nombre_archivo\n",
    "\n",
    "        if ruta_archivo_landing.suffix == '.csv':\n",
    "            df.to_csv(ruta_archivo_raw, index=False)\n",
    "        elif ruta_archivo_landing.suffix == '.pkl':\n",
    "            df.to_pickle(ruta_archivo_raw)\n",
    "            # Guardar también como CSV, cambiando el sufijo manualmente\n",
    "            ruta_archivo_csv = ruta_archivo_raw.with_name(ruta_archivo_raw.stem + '_from_pkl.csv')\n",
    "            df.to_csv(ruta_archivo_csv, index=False)\n",
    "\n",
    "        print(f\"Archivo '{nombre_archivo}' guardado en la zona raw.\")\n",
    "    else:\n",
    "        print(f\"El archivo '{nombre_archivo}' no pudo ser leído.\")\n"
   ],
   "outputs": [
    {
     "name": "stdout",
     "output_type": "stream",
     "text": [
      "Archivo 'olympic_medals.csv' guardado en la zona raw.\n",
      "Archivo 'olympic_results.pkl' guardado en la zona raw.\n",
      "Archivo 'olympic_hosts.csv' guardado en la zona raw.\n",
      "Archivo 'olympic_athletes.csv' guardado en la zona raw.\n",
      "Archivo 'olympic_results.csv' guardado en la zona raw.\n"
     ]
    }
   ],
   "execution_count": 12
  }
 ],
 "metadata": {
  "kernelspec": {
   "display_name": "Python 3 (ipykernel)",
   "language": "python",
   "name": "python3"
  },
  "language_info": {
   "codemirror_mode": {
    "name": "ipython",
    "version": 3
   },
   "file_extension": ".py",
   "mimetype": "text/x-python",
   "name": "python",
   "nbconvert_exporter": "python",
   "pygments_lexer": "ipython3",
   "version": "3.12.4"
  }
 },
 "nbformat": 4,
 "nbformat_minor": 5
}
