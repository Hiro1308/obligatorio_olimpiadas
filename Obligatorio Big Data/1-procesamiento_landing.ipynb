{
 "cells": [
  {
   "cell_type": "markdown",
   "id": "e17175d22ace7971",
   "metadata": {},
   "source": [
    "## Procesamiento Landing\n",
    "### Objetivos: \n",
    "- Leer los archivos de la zona de landing, verificar que se pueden acceder. \n",
    "- Crear archivos en la zona raw para continuar con el análisis y enriquecimiento."
   ]
  },
  {
   "cell_type": "code",
   "execution_count": 1,
   "id": "44fc9374ca1ed76e",
   "metadata": {},
   "outputs": [
    {
     "name": "stdout",
     "output_type": "stream",
     "text": [
      "Requirement already satisfied: numpy==1.26.4 in /usr/local/anaconda3/lib/python3.12/site-packages (1.26.4)\n",
      "Requirement already satisfied: pandas==2.2.2 in /usr/local/anaconda3/lib/python3.12/site-packages (2.2.2)\n",
      "Requirement already satisfied: python-dateutil>=2.8.2 in /usr/local/anaconda3/lib/python3.12/site-packages (from pandas==2.2.2) (2.9.0.post0)\n",
      "Requirement already satisfied: pytz>=2020.1 in /usr/local/anaconda3/lib/python3.12/site-packages (from pandas==2.2.2) (2024.1)\n",
      "Requirement already satisfied: tzdata>=2022.7 in /usr/local/anaconda3/lib/python3.12/site-packages (from pandas==2.2.2) (2023.3)\n",
      "Requirement already satisfied: six>=1.5 in /usr/local/anaconda3/lib/python3.12/site-packages (from python-dateutil>=2.8.2->pandas==2.2.2) (1.16.0)\n",
      "Note: you may need to restart the kernel to use updated packages.\n"
     ]
    }
   ],
   "source": [
    "%pip install numpy==1.26.4 pandas==2.2.2"
   ]
  },
  {
   "cell_type": "code",
   "execution_count": 2,
   "id": "initial_id",
   "metadata": {},
   "outputs": [],
   "source": [
    "import pandas as pd\n",
    "import os"
   ]
  },
  {
   "cell_type": "code",
   "execution_count": 3,
   "id": "53a975c31f2dc556",
   "metadata": {
    "jupyter": {
     "is_executing": true
    }
   },
   "outputs": [
    {
     "name": "stdout",
     "output_type": "stream",
     "text": [
      "Archivo 'olympic_medals.csv' guardado en la zona raw.\n",
      "Archivo '.DS_Store' ignorado. Formato no soportado.\n",
      "Archivo 'olympic_results.pkl' guardado en la zona raw.\n",
      "Archivo 'olympic_hosts.csv' guardado en la zona raw.\n",
      "Archivo 'olympic_athletes.csv' guardado en la zona raw.\n",
      "Archivo 'olympic_results.csv' guardado en la zona raw.\n"
     ]
    }
   ],
   "source": [
    "# Funciones para leer archivos CSV y PKL\n",
    "def leer_csv(ruta):\n",
    "    try:\n",
    "        df = pd.read_csv(ruta)\n",
    "        return df\n",
    "    except Exception as e:\n",
    "        print(f\"Error al leer el archivo CSV '{ruta}': {e}\")\n",
    "        return None\n",
    "\n",
    "def leer_pkl(ruta):\n",
    "    try:\n",
    "        df = pd.read_pickle(ruta)\n",
    "        return df\n",
    "    except Exception as e:\n",
    "        print(f\"Error al leer el archivo PKL '{ruta}': {e}\")\n",
    "        return None\n",
    "\n",
    "# Directorio de la zona de landing y raw\n",
    "directorio_landing = 'datos/landing'\n",
    "directorio_raw = 'datos/raw'\n",
    "\n",
    "# Asegurarse de que el directorio de raw existe\n",
    "os.makedirs(directorio_raw, exist_ok=True)\n",
    "\n",
    "# Verificar cada archivo en la zona de landing\n",
    "for nombre_archivo in os.listdir(directorio_landing):\n",
    "    ruta_archivo_landing = os.path.join(directorio_landing, nombre_archivo)\n",
    "    \n",
    "    if nombre_archivo.endswith('.csv'):\n",
    "        df = leer_csv(ruta_archivo_landing)\n",
    "    elif nombre_archivo.endswith('.pkl'):\n",
    "        df = leer_pkl(ruta_archivo_landing)\n",
    "    else:\n",
    "        print(f\"Archivo '{nombre_archivo}' ignorado. Formato no soportado.\")\n",
    "        continue\n",
    "    \n",
    "    if df is not None:\n",
    "        # Guardar el archivo en la zona raw\n",
    "        ruta_archivo_raw = os.path.join(directorio_raw, nombre_archivo)\n",
    "        \n",
    "        if nombre_archivo.endswith('.csv'):\n",
    "            df.to_csv(ruta_archivo_raw, index=False)\n",
    "        elif nombre_archivo.endswith('.pkl'):\n",
    "            df.to_pickle(ruta_archivo_raw)\n",
    "            df.to_csv(ruta_archivo_raw.replace('.pkl', '_from_pkl.csv'), index=False)\n",
    "        \n",
    "        print(f\"Archivo '{nombre_archivo}' guardado en la zona raw.\")\n",
    "    else:\n",
    "        print(f\"El archivo '{nombre_archivo}' no pudo ser leído.\")\n"
   ]
  }
 ],
 "metadata": {
  "kernelspec": {
   "display_name": "Python 3 (ipykernel)",
   "language": "python",
   "name": "python3"
  },
  "language_info": {
   "codemirror_mode": {
    "name": "ipython",
    "version": 3
   },
   "file_extension": ".py",
   "mimetype": "text/x-python",
   "name": "python",
   "nbconvert_exporter": "python",
   "pygments_lexer": "ipython3",
   "version": "3.12.4"
  }
 },
 "nbformat": 4,
 "nbformat_minor": 5
}
