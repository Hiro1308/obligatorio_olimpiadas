{
 "cells": [
  {
   "cell_type": "markdown",
   "id": "9aaeb598-da7d-4b0a-ab58-6fc34fb7e790",
   "metadata": {},
   "source": [
    "Procesamiento Refined"
   ]
  },
  {
   "cell_type": "code",
   "execution_count": 42,
   "id": "f90a84d2-efe5-4eb8-8ca1-7aa88fa27638",
   "metadata": {},
   "outputs": [],
   "source": [
    "#Importamos Pandas y cargamos archivos\n",
    "import pandas as pd\n",
    "\n",
    "# Cargamos el archivo de medallas\n",
    "df_medals = pd.read_csv('./datos/raw/olympic_medals.csv')\n",
    "\n",
    "# Cargamos el archivo de resultados\n",
    "df_results = pd.read_csv('./datos/raw/olympic_results_from_pkl.csv')\n",
    "\n",
    "# Cargamos el archivo de atletas\n",
    "df_atletas = pd.read_csv('./datos/raw/olympic_athletes.csv')\n",
    "\n",
    "# Cargamos el archivo de hosts\n",
    "df_hosts = pd.read_csv('./datos/raw/olympic_hosts.csv')"
   ]
  },
  {
   "cell_type": "markdown",
   "id": "20a7c081-d256-4ed3-84da-8257fbe91459",
   "metadata": {},
   "source": [
    "Definimos Funciones a Utilizar"
   ]
  },
  {
   "cell_type": "code",
   "execution_count": 43,
   "id": "fb6045b4-c61f-45fb-9bae-0ff65e93a9ef",
   "metadata": {},
   "outputs": [],
   "source": [
    "#funcion para sutituir un valor nulo de una columna por un valor existente de la misma columna buscando por otro codigo relacionado\n",
    "def sustituir_valor_filtrado(df, value, filter):\n",
    "    # Identificar las filas que tienen valor nulo en la columna 'value'\n",
    "    mask = pd.isnull(df[value])    \n",
    "    # Filtrar el DataFrame original para obtener solo las filas donde 'value' es nulo\n",
    "    df_nulls = df[mask]  \n",
    "    # Obtener los valores únicos de 'filter' para iterar sobre ellos\n",
    "    unique_filters = df_nulls[filter].unique() \n",
    "    # Iterar sobre cada valor único de 'filter' y rellenar los valores nulos correspondientes\n",
    "    for f in unique_filters:\n",
    "        # Filtrar las filas donde 'filter' coincide y 'value' no es nulo\n",
    "        mask_filter = (df[filter] == f) & pd.notna(df[value])\n",
    "        df_filter = df[mask_filter]\n",
    "        \n",
    "        # Si hay filas en df_filter, asignar el valor de la primera fila a las filas correspondientes en df_nulls\n",
    "        if not df_filter.empty:\n",
    "            first_value = df_filter.iloc[0][value]\n",
    "            df.loc[mask & (df[filter] == f), value] = first_value\n",
    "    \n",
    "    return df\n",
    "\n",
    "\n",
    "def llenar_url_faltante(df_rellenar, df_atletas):\n",
    "    # Crear un diccionario de nombres de atletas a URLs para evitar múltiples accesos a df_atletas\n",
    "    nombre_a_url = df_atletas.set_index('athlete_full_name')['athlete_url'].to_dict()\n",
    "    \n",
    "    # Función para obtener la URL o cadena vacía si no se encuentra\n",
    "    def obtener_url(nombre):\n",
    "        return nombre_a_url.get(nombre, '')\n",
    "\n",
    "    # Máscara de filas donde athlete_url es nulo en df_rellenar\n",
    "    mask = df_rellenar['athlete_url'].isnull()\n",
    "\n",
    "    # Obtener los nombres únicos de atletas donde athlete_url es nulo\n",
    "    nombres_a_buscar = df_rellenar.loc[mask, 'athlete_full_name'].unique()\n",
    "\n",
    "    # Llenar los valores nulos en df_rellenar con las URLs encontradas en df_atletas\n",
    "    df_rellenar.loc[mask, 'athlete_url'] = df_rellenar.loc[mask, 'athlete_full_name'].apply(obtener_url)\n",
    "    \n",
    "    return df_rellenar\n",
    "\n",
    "def verificar_limpieza(df):\n",
    "    print(\"Datos Nulos:\")\n",
    "    display(df.isnull().sum())\n",
    "    print(\"\\n\")\n",
    "    print(\"Tipos de Datos:\")\n",
    "    display(df.dtypes)"
   ]
  },
  {
   "cell_type": "markdown",
   "id": "9a334dfe-0afd-4540-8726-523642efd6a2",
   "metadata": {},
   "source": [
    "Limpieza Dataset Hosts"
   ]
  },
  {
   "cell_type": "code",
   "execution_count": 44,
   "id": "e72221b5-9897-4438-8282-f54112e5adfa",
   "metadata": {},
   "outputs": [
    {
     "name": "stdout",
     "output_type": "stream",
     "text": [
      "Datos Nulos:\n"
     ]
    },
    {
     "data": {
      "text/plain": [
       "game_slug          0\n",
       "game_end_date      0\n",
       "game_start_date    0\n",
       "game_location      0\n",
       "game_name          0\n",
       "game_season        0\n",
       "game_year          0\n",
       "dtype: int64"
      ]
     },
     "metadata": {},
     "output_type": "display_data"
    },
    {
     "name": "stdout",
     "output_type": "stream",
     "text": [
      "\n",
      "\n",
      "Tipos de Datos:\n"
     ]
    },
    {
     "data": {
      "text/plain": [
       "game_slug                  object\n",
       "game_end_date      datetime64[ns]\n",
       "game_start_date    datetime64[ns]\n",
       "game_location              object\n",
       "game_name                  object\n",
       "game_season                object\n",
       "game_year                   int32\n",
       "dtype: object"
      ]
     },
     "metadata": {},
     "output_type": "display_data"
    }
   ],
   "source": [
    "df_clean_hosts = df_hosts\n",
    "\n",
    "#Convertimos las columna a un tipo de dato mas especifico, obviamos las conversiones a str ya que las columnas al estar definidas como object \n",
    "#pandas no realiza ninguna conversion\n",
    "df_clean_hosts['game_end_date'] = pd.to_datetime(df_clean_hosts['game_end_date'], format='%Y-%m-%dT%H:%M:%SZ')\n",
    "df_clean_hosts['game_start_date'] = pd.to_datetime(df_clean_hosts['game_start_date'], format='%Y-%m-%dT%H:%M:%SZ')\n",
    "df_clean_hosts['game_year'] = df_clean_hosts['game_year'].astype(int)\n",
    "\n",
    "verificar_limpieza(df_clean_hosts)"
   ]
  },
  {
   "cell_type": "markdown",
   "id": "e2d27334-4870-484a-b0a1-14ae3d3fccd3",
   "metadata": {},
   "source": [
    "Limpieza Dataset Atletas"
   ]
  },
  {
   "cell_type": "code",
   "execution_count": 45,
   "id": "4e44fd1a-bebe-445d-b9bd-72eb9cdf4193",
   "metadata": {},
   "outputs": [
    {
     "name": "stdout",
     "output_type": "stream",
     "text": [
      "Datos Nulos:\n"
     ]
    },
    {
     "data": {
      "text/plain": [
       "athlete_url             0\n",
       "athlete_full_name       0\n",
       "games_participations    0\n",
       "first_game              0\n",
       "athlete_year_birth      0\n",
       "athlete_medals          0\n",
       "dtype: int64"
      ]
     },
     "metadata": {},
     "output_type": "display_data"
    },
    {
     "name": "stdout",
     "output_type": "stream",
     "text": [
      "\n",
      "\n",
      "Tipos de Datos:\n"
     ]
    },
    {
     "data": {
      "text/plain": [
       "athlete_url             object\n",
       "athlete_full_name       object\n",
       "games_participations     int32\n",
       "first_game              object\n",
       "athlete_year_birth       int32\n",
       "athlete_medals           int32\n",
       "dtype: object"
      ]
     },
     "metadata": {},
     "output_type": "display_data"
    }
   ],
   "source": [
    "df_atletas_fg = df_atletas\n",
    "\n",
    "df_fg_null = df_atletas_fg[pd.isnull(df_atletas_fg['first_game'])] \n",
    "for i in range(len(df_fg_null)):\n",
    "    fila = df_fg_null.iloc[i]\n",
    "    # se filtra df_clean_results por athlete_full_name\n",
    "    df_res_filt = df_clean_results[df_clean_results['athlete_full_name'] == fila['athlete_full_name']]    \n",
    "    # Se divide slug_game y se asigna a nuevas columnas\n",
    "    df_res_filt.loc[:, ['nom', 'anio']] = df_res_filt['slug_game'].str.split('-', expand=True)\n",
    "    # Se filtra df_res_filt por el año mínimo\n",
    "    df_filt = df_res_filt[df_res_filt['anio'] == df_res_filt['anio'].min()]  \n",
    "    # Si se encontraron 1 o mas resutlados para el atleta de fila, se asigna el primer valor slug_game del nuevo dataframe filtrado\n",
    "    if df_filt['slug_game'].count() > 0:\n",
    "        df_atletas_fg.at[df_atletas_fg[df_atletas_fg['athlete_full_name'] == fila['athlete_full_name']].index[0], 'first_game'] = df_filt['slug_game'].iloc[0]\n",
    "\n",
    "#Se rellena la columna con 'NG'(No Game) cuando no se encontraron resultados para el atleta\n",
    "df_atletas_fg['first_game'].fillna('NG', inplace = True)\n",
    "\n",
    "#Se completa fecha de nacimiento con promedio de nacimientos para su primer juego\n",
    "df_atletas_ab = df_atletas_fg\n",
    "\n",
    "df_ab_null = df_atletas_ab[pd.isnull(df_atletas_fg['athlete_year_birth'])] \n",
    "df_ab_nna = df_atletas_ab[pd.notna(df_atletas_fg['athlete_year_birth'])] \n",
    "for i in range(len(df_ab_null)):\n",
    "    fila = df_ab_null.iloc[i]\n",
    "    df_atl_filt = df_ab_nna[df_ab_nna['first_game'] == fila['first_game']]\n",
    "    prom = df_atl_filt['athlete_year_birth'].mean()\n",
    "    df_atletas_ab.at[df_atletas_ab[df_atletas_ab['athlete_full_name'] == fila['athlete_full_name']].index[0], 'athlete_year_birth'] = prom\n",
    "\n",
    "#Se rellena la columna con 0 cuando no se encontraron un pormedio para el atleta\n",
    "df_atletas_fg['athlete_year_birth'].fillna(0, inplace = True)\n",
    "\n",
    "#Se rellena columna bio con '' cuando es nulo\n",
    "df_atletas_bi = df_atletas_fg\n",
    "df_atletas_bi['bio'].fillna('', inplace = True)\n",
    "\n",
    "\n",
    "#Se rellenan valores de athlete_medals con la cantidad de medallas que se cuentan en df_clean_medals y se convierte olumna a entero \n",
    "#para borrar saltos de linea y datos innecesarios\n",
    "df_atletas_me = df_atletas_bi\n",
    "# Filtrar filas donde athlete_medals es nulo\n",
    "df_me_null = df_atletas_me[pd.isnull(df_atletas_me['athlete_medals'])]\n",
    "# Hacer un merge entre df_atletas_bi y df_clean_medals para obtener las medallas por atleta\n",
    "merged = pd.merge(df_atletas_me, df_clean_medals, on='athlete_full_name', how='left')\n",
    "# Calcular el total de medallas por atleta\n",
    "medals_count = merged.groupby('athlete_full_name').size().reset_index(name='total_medals')\n",
    "# Actualizar df_atletas_bi con los totales calculados\n",
    "df_atletas_me = pd.merge(df_atletas_me, medals_count, on='athlete_full_name', how='left')\n",
    "df_atletas_me['athlete_medals'] = df_atletas_me['total_medals']\n",
    "df_atletas_me.drop(columns=['total_medals'], inplace=True)\n",
    "\n",
    "#Eliminamos la columna de biografia ya que no suma a nuestro analisis actual\n",
    "df_clean_atletas = df_atletas_me.drop(columns=['bio'])\n",
    "\n",
    "#Convertimos las columna a un tipo de dato mas especifico, obviamos las conversiones a str ya que las columnas al estar definidas como object \n",
    "#pandas no realiza ninguna conversion\n",
    "#Convertimos años con el tipo float a int y usamos astype(int) sobre un tipo de datos int64 para reducir a int32 cuando el dato no \n",
    "#requiere de tanto espacio en memora\n",
    "df_clean_atletas['athlete_year_birth'] = df_clean_atletas['athlete_year_birth'].astype(int)\n",
    "df_clean_atletas['athlete_medals'] = df_clean_atletas['athlete_medals'].astype(int)\n",
    "df_clean_atletas['games_participations'] = df_clean_atletas['games_participations'].astype(int)\n",
    "\n",
    "verificar_limpieza(df_clean_atletas)"
   ]
  },
  {
   "cell_type": "markdown",
   "id": "75b433ba-042c-434d-b674-ccea76e3bfc1",
   "metadata": {},
   "source": [
    "Limpieza Dataset Medallas"
   ]
  },
  {
   "cell_type": "code",
   "execution_count": 46,
   "id": "1f59cb6c-9db6-4cf8-9a73-bad83d7329f1",
   "metadata": {},
   "outputs": [
    {
     "name": "stdout",
     "output_type": "stream",
     "text": [
      "Datos Nulos:\n"
     ]
    },
    {
     "data": {
      "text/plain": [
       "discipline_title         0\n",
       "slug_game                0\n",
       "event_title              0\n",
       "event_gender             0\n",
       "medal_type               0\n",
       "participant_type         0\n",
       "participant_title        0\n",
       "athlete_url              0\n",
       "athlete_full_name        0\n",
       "country_name             0\n",
       "country_code             0\n",
       "country_3_letter_code    0\n",
       "dtype: int64"
      ]
     },
     "metadata": {},
     "output_type": "display_data"
    },
    {
     "name": "stdout",
     "output_type": "stream",
     "text": [
      "\n",
      "\n",
      "Tipos de Datos:\n"
     ]
    },
    {
     "data": {
      "text/plain": [
       "discipline_title         object\n",
       "slug_game                object\n",
       "event_title              object\n",
       "event_gender             object\n",
       "medal_type               object\n",
       "participant_type         object\n",
       "participant_title        object\n",
       "athlete_url              object\n",
       "athlete_full_name        object\n",
       "country_name             object\n",
       "country_code             object\n",
       "country_3_letter_code    object\n",
       "dtype: object"
      ]
     },
     "metadata": {},
     "output_type": "display_data"
    }
   ],
   "source": [
    "#Remplazamos columna country_cod nulas por columna country_cod no nulas cuando country_3_letter_code es igual en ambas filas\n",
    "df_medals_cc = sustituir_valor_filtrado(df_medals, 'country_code', 'country_3_letter_code')\n",
    "\n",
    "#Si aun existen datos en la columna country_code nulos les asignamos el valor de la columna country_3_letter_code\n",
    "df_medals_cc['country_code'].fillna(df_medals_cc['country_3_letter_code'], inplace = True)\n",
    "\n",
    "# Ya que en muchas de las filas la columna participant_title es igual a la columna country_name, sustituimos participant_title nulos por country_name\n",
    "\n",
    "#Continuamos a partir del dataframe con la columna country_code sin valores nulos\n",
    "df_medals_pt = df_medals_cc\n",
    "df_medals_pt['participant_title'].fillna(df_medals_pt['country_name'], inplace=True)\n",
    "\n",
    "\n",
    "#Rellenamos tdas las url nulas con la url que tiene el atleta en el dataset de atletas\n",
    "df_medals_au = llenar_url_faltante(df_medals_pt, df_clean_atletas)\n",
    "\n",
    "#Por ultimo rellenamos los valores nulos faltantes con el dato vacio ''\n",
    "df_clean_medals = df_medals_au.fillna('')\n",
    "\n",
    "#No realizamos conversion de los tipos de datos ya que todas las columnas se definirian como tipo str y las conversiones a str \n",
    "#ya que las columnas estan definidas como object pandas no realiza ninguna conversion\n",
    "\n",
    "verificar_limpieza(df_clean_medals)"
   ]
  },
  {
   "cell_type": "markdown",
   "id": "e487768b-dec6-47c0-bbba-822578047bc5",
   "metadata": {},
   "source": [
    "Limpieza Dataset Resultados"
   ]
  },
  {
   "cell_type": "code",
   "execution_count": 47,
   "id": "124b6b7c-8780-4c7a-9a43-09ba8187f413",
   "metadata": {},
   "outputs": [
    {
     "name": "stdout",
     "output_type": "stream",
     "text": [
      "Datos Nulos:\n"
     ]
    },
    {
     "data": {
      "text/plain": [
       "discipline_title         0\n",
       "event_title              0\n",
       "slug_game                0\n",
       "participant_type         0\n",
       "medal_type               0\n",
       "athletes                 0\n",
       "rank_equal               0\n",
       "rank_position            0\n",
       "country_name             0\n",
       "country_code             0\n",
       "country_3_letter_code    0\n",
       "athlete_url              0\n",
       "athlete_full_name        0\n",
       "value_unit               0\n",
       "value_type               0\n",
       "dtype: int64"
      ]
     },
     "metadata": {},
     "output_type": "display_data"
    },
    {
     "name": "stdout",
     "output_type": "stream",
     "text": [
      "\n",
      "\n",
      "Tipos de Datos:\n"
     ]
    },
    {
     "data": {
      "text/plain": [
       "discipline_title         object\n",
       "event_title              object\n",
       "slug_game                object\n",
       "participant_type         object\n",
       "medal_type               object\n",
       "athletes                 object\n",
       "rank_equal                 bool\n",
       "rank_position            object\n",
       "country_name             object\n",
       "country_code             object\n",
       "country_3_letter_code    object\n",
       "athlete_url              object\n",
       "athlete_full_name        object\n",
       "value_unit               object\n",
       "value_type               object\n",
       "dtype: object"
      ]
     },
     "metadata": {},
     "output_type": "display_data"
    }
   ],
   "source": [
    "#Completamos los las filas sin medallas con 'NA'\n",
    "df_results_mt = df_results\n",
    "df_results_mt['medal_type'].fillna('NA', inplace = True)\n",
    "\n",
    "#Completamos los las filas sin atletas con ''\n",
    "df_results_a = df_results_mt\n",
    "df_results_a['athletes'].fillna('', inplace = True)\n",
    "\n",
    "#Rellenamos tdas las url nulas con la url que tiene el atleta en el dataset de atletas\n",
    "df_results_url = llenar_url_faltante(df_results_a, df_clean_atletas)\n",
    "\n",
    "#Si es un equipo y el atleta y la url son nulas sustituimos por ''\n",
    "df_results_ua = df_results_a\n",
    "\n",
    "condicion = df_results_ua['participant_type'] == 'GameTeam'\n",
    "df_results_ua.loc[condicion, ['athlete_url', 'athlete_full_name']] = df_results_ua.loc[condicion, ['athlete_url', 'athlete_full_name']].fillna('')\n",
    "\n",
    "\n",
    "#Sustituimos rank_equal por False cuando es nulo \n",
    "df_results_re = df_results_ua\n",
    "df_results_re['rank_equal'].fillna(False, inplace = True)\n",
    "\n",
    "#Sustituimos rank_position por NM(No Mark) cuando es nulo \n",
    "df_results_rp = df_results_re\n",
    "df_results_rp['rank_position'].fillna('NM', inplace = True)\n",
    "\n",
    "#Remplazamos columna country_cod nulas por columna country_cod no nulas cuando country_3_letter_code es igual en ambas filas\n",
    "df_results_cc = sustituir_valor_filtrado(df_results_rp, 'country_code', 'country_3_letter_code')\n",
    "\n",
    "#Si aun existen datos en la columna country_code nulos les asignamos el valor de la columna country_3_letter_code\n",
    "df_results_cc['country_code'].fillna(df_results_cc['country_3_letter_code'], inplace = True)\n",
    "\n",
    "#Remplazamos columna value_type nulas por columna value_type no nulas cuando discipline_title es igual en ambas filas\n",
    "df_results_vt = sustituir_valor_filtrado(df_results_cc, 'value_type', 'discipline_title')\n",
    "\n",
    "#Si aun existen datos en la columna value_type nulos les asignamos el valor NT(No Type)\n",
    "df_results_vt['value_type'].fillna('NT', inplace = True)\n",
    "\n",
    "#Sustituimos value_unit por NV(No Value) cuando es nulo \n",
    "df_results_vu = df_results_vt\n",
    "df_results_vu['value_unit'].fillna('NV', inplace = True)\n",
    "\n",
    "#Por ultimo rellenamos los valores nulos faltantes con el dato vacio '' y eliminamos la columna Unnamed: 0\n",
    "df_clean_results = df_results_vu.fillna('')\n",
    "df_clean_results = df_clean_results.drop(columns=['Unnamed: 0'])\n",
    "\n",
    "#No realizamos conversion de los tipos de datos ya que todas las columnas excepto rank_equal ya definido como bool se definirian como tipo \n",
    "#str y las conversiones a str ya que las columnas estan definidas como object pandas no realiza ninguna conversion\n",
    "\n",
    "verificar_limpieza(df_clean_results)"
   ]
  },
  {
   "cell_type": "markdown",
   "id": "e37853d2-7eb8-43d4-8ae7-9ba4d646458c",
   "metadata": {},
   "source": [
    "Guardamos los DataFrames limpios en el area refined"
   ]
  },
  {
   "cell_type": "code",
   "execution_count": 50,
   "id": "65da8c4e-e725-4dc0-934a-a8860358407a",
   "metadata": {},
   "outputs": [],
   "source": [
    "df_clean_hosts.to_csv('datos/refined/olympic_hosts.csv', index=False)\n",
    "df_clean_atletas.to_csv('datos/refined/olympic_athletes.csv', index=False)\n",
    "df_clean_medals.to_csv('datos/refined/olympic_medals.csv', index=False)\n",
    "df_clean_results.to_csv('datos/refined/olympic_results.csv', index=False)"
   ]
  },
  {
   "cell_type": "code",
   "execution_count": null,
   "id": "6645468b-c8ff-491e-b216-6ade98f0ff29",
   "metadata": {},
   "outputs": [],
   "source": []
  }
 ],
 "metadata": {
  "kernelspec": {
   "display_name": "Python 3 (ipykernel)",
   "language": "python",
   "name": "python3"
  },
  "language_info": {
   "codemirror_mode": {
    "name": "ipython",
    "version": 3
   },
   "file_extension": ".py",
   "mimetype": "text/x-python",
   "name": "python",
   "nbconvert_exporter": "python",
   "pygments_lexer": "ipython3",
   "version": "3.11.7"
  }
 },
 "nbformat": 4,
 "nbformat_minor": 5
}
