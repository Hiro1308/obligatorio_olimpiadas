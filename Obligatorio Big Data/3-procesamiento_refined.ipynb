{
 "cells": [
  {
   "cell_type": "markdown",
   "id": "9aaeb598-da7d-4b0a-ab58-6fc34fb7e790",
   "metadata": {},
   "source": [
    "Procesamiento Refined"
   ]
  },
  {
   "cell_type": "code",
   "execution_count": 12,
   "id": "f90a84d2-efe5-4eb8-8ca1-7aa88fa27638",
   "metadata": {},
   "outputs": [],
   "source": [
    "#Importamos Pandas y cargamos archivos\n",
    "import pandas as pd\n",
    "\n",
    "# Cargamos el archivo de medallas\n",
    "df_medals = pd.read_csv('./datos/raw/olympic_medals.csv')\n",
    "\n",
    "# Cargamos el archivo de resultados\n",
    "df_results = pd.read_csv('./datos/raw/olympic_results_from_pkl.csv')"
   ]
  },
  {
   "cell_type": "markdown",
   "id": "20a7c081-d256-4ed3-84da-8257fbe91459",
   "metadata": {},
   "source": [
    "Definimos Funciones a Utilizar"
   ]
  },
  {
   "cell_type": "code",
   "execution_count": 13,
   "id": "fb6045b4-c61f-45fb-9bae-0ff65e93a9ef",
   "metadata": {},
   "outputs": [],
   "source": [
    "#funcion para sutituir un valor nulo de una columna por un valor existente de la misma columna buscando por otro codigo relacionado\n",
    "def sustituir_valor_filtrado(df, value, filter):\n",
    "    # Identificar las filas que tienen valor nulo en la columna 'value'\n",
    "    mask = pd.isnull(df[value])    \n",
    "    # Filtrar el DataFrame original para obtener solo las filas donde 'value' es nulo\n",
    "    df_nulls = df[mask]  \n",
    "    # Obtener los valores únicos de 'filter' para iterar sobre ellos\n",
    "    unique_filters = df_nulls[filter].unique() \n",
    "    # Iterar sobre cada valor único de 'filter' y rellenar los valores nulos correspondientes\n",
    "    for f in unique_filters:\n",
    "        # Filtrar las filas donde 'filter' coincide y 'value' no es nulo\n",
    "        mask_filter = (df[filter] == f) & pd.notna(df[value])\n",
    "        df_filter = df[mask_filter]\n",
    "        \n",
    "        # Si hay filas en df_filter, asignar el valor de la primera fila a las filas correspondientes en df_nulls\n",
    "        if not df_filter.empty:\n",
    "            first_value = df_filter.iloc[0][value]\n",
    "            df.loc[mask & (df[filter] == f), value] = first_value\n",
    "    \n",
    "    return df"
   ]
  },
  {
   "cell_type": "markdown",
   "id": "75b433ba-042c-434d-b674-ccea76e3bfc1",
   "metadata": {},
   "source": [
    "Limpieza Dataset Medallas"
   ]
  },
  {
   "cell_type": "code",
   "execution_count": 14,
   "id": "1f59cb6c-9db6-4cf8-9a73-bad83d7329f1",
   "metadata": {},
   "outputs": [
    {
     "data": {
      "text/plain": [
       "discipline_title         0\n",
       "slug_game                0\n",
       "event_title              0\n",
       "event_gender             0\n",
       "medal_type               0\n",
       "participant_type         0\n",
       "participant_title        0\n",
       "athlete_url              0\n",
       "athlete_full_name        0\n",
       "country_name             0\n",
       "country_code             0\n",
       "country_3_letter_code    0\n",
       "dtype: int64"
      ]
     },
     "metadata": {},
     "output_type": "display_data"
    }
   ],
   "source": [
    "#Remplazamos columna country_cod nulas por columna country_cod no nulas cuando country_3_letter_code es igual en ambas filas\n",
    "df_medals_cc = sustituir_valor_filtrado(df_medals, 'country_code', 'country_3_letter_code')\n",
    "\n",
    "#Si aun existen datos en la columna country_code nulos les asignamos el valor de la columna country_3_letter_code\n",
    "df_medals_cc['country_code'].fillna(df_medals_cc['country_3_letter_code'], inplace = True)\n",
    "\n",
    "# Ya que en muchas de las filas la columna participant_title es igual a la columna country_name, sustituimos participant_title nulos por country_name\n",
    "\n",
    "#Continuamos a partir del dataframe con la columna country_code sin valores nulos\n",
    "df_medals_pt = df_medals_cc\n",
    "df_medals_pt['participant_title'].fillna(df_medals_pt['country_name'], inplace=True)\n",
    "\n",
    "\n",
    "#Ya que la url es un valor fijo + el nombre del atleta, cuando la url del atleta es nula y el nombre no lo es, parseamos el nombre para darle un formato especifico y lo concatenamos al valor fijo de la url\n",
    "\n",
    "#Continuamos a partir del dataframe con la columna country_code y participant_title sin valores nulos\n",
    "df_medals_au = df_medals_pt\n",
    "\n",
    "fix = 'https://olympics.com/en/athletes/'\n",
    "\n",
    "#Recorremos el dataframe\n",
    "for i in range(len(df_medals_au)):\n",
    "    fila = df_medals_au.iloc[i]\n",
    "    \n",
    "    if((pd.notna(fila['athlete_full_name'])) & pd.isnull(fila['athlete_url'])):\n",
    "    #Si la url es nula y el nombre del atleta no, parseamos el nombre a minusculas, sustituimos los espacios por un guion y concatenamos el valor fijo de la url + el nombre\n",
    "        nom = fila['athlete_full_name'].lower().replace(\" \", \"-\")\n",
    "        url = fix+nom\n",
    "        df_medals_au.at[i, 'athlete_url'] = url\n",
    "\n",
    "#Por ultimo rellenamos los valores nulos faltantes con el dato vacio ''\n",
    "df_clean_medals = df_medals_au.fillna('')\n",
    "\n",
    "display(df_clean_medals.isnull().sum())"
   ]
  },
  {
   "cell_type": "markdown",
   "id": "e487768b-dec6-47c0-bbba-822578047bc5",
   "metadata": {},
   "source": [
    "Limpieza Dataset Resultados"
   ]
  },
  {
   "cell_type": "code",
   "execution_count": 16,
   "id": "124b6b7c-8780-4c7a-9a43-09ba8187f413",
   "metadata": {},
   "outputs": [
    {
     "data": {
      "text/plain": [
       "Unnamed: 0               0\n",
       "discipline_title         0\n",
       "event_title              0\n",
       "slug_game                0\n",
       "participant_type         0\n",
       "medal_type               0\n",
       "athletes                 0\n",
       "rank_equal               0\n",
       "rank_position            0\n",
       "country_name             0\n",
       "country_code             0\n",
       "country_3_letter_code    0\n",
       "athlete_url              0\n",
       "athlete_full_name        0\n",
       "value_unit               0\n",
       "value_type               0\n",
       "dtype: int64"
      ]
     },
     "metadata": {},
     "output_type": "display_data"
    }
   ],
   "source": [
    "#Completamos los las filas sin medallas con 'NA'\n",
    "df_results_mt = df_results\n",
    "df_results_mt['medal_type'].fillna('NA', inplace = True)\n",
    "\n",
    "#Completamos los las filas sin atletas con ''\n",
    "df_results_a = df_results_mt\n",
    "df_results_a['athletes'].fillna('', inplace = True)\n",
    "\n",
    "#Ya que la url es un valor fijo + el nombre del atleta, cuando es un atleta, la url es nula y el nombre no lo es, \n",
    "#parseamos el nombre para darle un formato especifico y lo concatenamos al valor fijo de la url\n",
    "df_results_url = df_results_a\n",
    "\n",
    "fix = 'https://olympics.com/en/athletes/'\n",
    "\n",
    "for i in range(len(df_results_url)):\n",
    "    fila = df_results_url.iloc[i]\n",
    "    \n",
    "    if((fila['participant_type'] == 'Athlete') & (pd.notna(fila['athlete_full_name'])) & pd.isnull(fila['athlete_url'])):\n",
    "        nom = fila['athlete_full_name'].lower().replace(\" \", \"-\")\n",
    "        url = fix+nom\n",
    "        df_results_url.at[i, 'athlete_url'] = url\n",
    "\n",
    "#Si es un equipo y el atleta y la url son nulas sustituimos por ''\n",
    "df_results_ua = df_results_a\n",
    "\n",
    "condicion = df_results_ua['participant_type'] == 'GameTeam'\n",
    "df_results_ua.loc[condicion, ['athlete_url', 'athlete_full_name']] = df_results_ua.loc[condicion, ['athlete_url', 'athlete_full_name']].fillna('')\n",
    "\n",
    "\n",
    "#Sustituimos rank_equal por False cuando es nulo \n",
    "df_results_re = df_results_ua\n",
    "df_results_re['rank_equal'].fillna(False, inplace = True)\n",
    "\n",
    "#Sustituimos rank_position por NM(No Mark) cuando es nulo \n",
    "df_results_rp = df_results_re\n",
    "df_results_rp['rank_position'].fillna('NM', inplace = True)\n",
    "\n",
    "#Remplazamos columna country_cod nulas por columna country_cod no nulas cuando country_3_letter_code es igual en ambas filas\n",
    "df_results_cc = sustituir_valor_filtrado(df_results_rp, 'country_code', 'country_3_letter_code')\n",
    "\n",
    "#Si aun existen datos en la columna country_code nulos les asignamos el valor de la columna country_3_letter_code\n",
    "df_results_cc['country_code'].fillna(df_results_cc['country_3_letter_code'], inplace = True)\n",
    "\n",
    "#Remplazamos columna value_type nulas por columna value_type no nulas cuando discipline_title es igual en ambas filas\n",
    "df_results_vt = sustituir_valor_filtrado(df_results_cc, 'value_type', 'discipline_title')\n",
    "\n",
    "#Si aun existen datos en la columna value_type nulos les asignamos el valor NT(No Type)\n",
    "df_results_vt['value_type'].fillna('NT', inplace = True)\n",
    "\n",
    "#Sustituimos value_unit por NV(No Value) cuando es nulo \n",
    "df_results_vu = df_results_vt\n",
    "df_results_vu['value_unit'].fillna('NV', inplace = True)\n",
    "\n",
    "#Por ultimo rellenamos los valores nulos faltantes con el dato vacio ''\n",
    "df_clean_results = df_results_vu.fillna('')\n",
    "\n",
    "display(df_clean_results.isnull().sum())"
   ]
  },
  {
   "cell_type": "code",
   "execution_count": null,
   "id": "fd32cd1f-50ed-459d-bf49-b675ec7c483f",
   "metadata": {},
   "outputs": [],
   "source": []
  }
 ],
 "metadata": {
  "kernelspec": {
   "display_name": "Python 3 (ipykernel)",
   "language": "python",
   "name": "python3"
  },
  "language_info": {
   "codemirror_mode": {
    "name": "ipython",
    "version": 3
   },
   "file_extension": ".py",
   "mimetype": "text/x-python",
   "name": "python",
   "nbconvert_exporter": "python",
   "pygments_lexer": "ipython3",
   "version": "3.11.7"
  }
 },
 "nbformat": 4,
 "nbformat_minor": 5
}
