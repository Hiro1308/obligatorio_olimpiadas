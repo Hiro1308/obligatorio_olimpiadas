{
 "cells": [
  {
   "metadata": {},
   "cell_type": "code",
   "source": "import pandas as pd",
   "id": "initial_id",
   "outputs": [],
   "execution_count": null
  },
  {
   "metadata": {},
   "cell_type": "markdown",
   "source": "Objetivo: Leer archivo PKL olympic_results.pkl y compararlo con archivo CSV con el mismo nombre",
   "id": "901e59413db7e91"
  },
  {
   "metadata": {},
   "cell_type": "code",
   "source": [
    "# CSV olympic_results\n",
    "df_csv = pd.read_csv('datos/raw/olympic_results.csv')\n",
    "df_csv"
   ],
   "id": "dcfc4c320858c6cf",
   "outputs": [],
   "execution_count": null
  },
  {
   "metadata": {},
   "cell_type": "code",
   "source": [
    "# Pickle olympic_results\n",
    "df_pkl = pd.read_pickle('datos/raw/olympic_results.pkl')\n",
    "df_pkl"
   ],
   "id": "28ecc2de3122fb9f",
   "outputs": [],
   "execution_count": null
  },
  {
   "metadata": {},
   "cell_type": "code",
   "source": [
    "def analizar_df(df):\n",
    "    # Crear una lista para almacenar el resumen de las columnas\n",
    "    resumen_data = []\n",
    "\n",
    "    for col in df.columns:\n",
    "        nombre = col\n",
    "        tipo = df[col].dtype\n",
    "        cantidad_valores = len(df[col])\n",
    "        valores_unicos = df[col].apply(lambda x: str(x) if isinstance(x, list) else x).nunique()\n",
    "        nulos = df[col].isnull().sum()\n",
    "        strings_vacios = df[col].apply(lambda x: x == '').sum() if df[col].dtype == 'object' else 0\n",
    "\n",
    "        # Tratar de obtener el valor más frecuente\n",
    "        try:\n",
    "            mas_frecuente = df[col].mode().iloc[0] if not df[col].mode().empty else None\n",
    "        except TypeError:\n",
    "            mas_frecuente = None\n",
    "\n",
    "        # Tratar de obtener el valor menos frecuente\n",
    "        try:\n",
    "            menos_frecuente = df[col].value_counts().idxmin() if not df[col].value_counts().empty else None\n",
    "        except TypeError:\n",
    "            menos_frecuente = None\n",
    "\n",
    "        # Añadir la información de la columna al resumen\n",
    "        resumen_data.append({\n",
    "            'Nombre': nombre,\n",
    "            'Tipo': tipo,\n",
    "            'Cantidad de Valores': cantidad_valores,\n",
    "            'Valores Únicos': valores_unicos,\n",
    "            'Nulos': nulos,\n",
    "            'Strings Vacíos': strings_vacios,\n",
    "            'Más Frecuente': mas_frecuente,\n",
    "            'Menos Frecuente': menos_frecuente\n",
    "        })\n",
    "\n",
    "    # Convertir la lista de resumen a un DataFrame\n",
    "    resumen = pd.DataFrame(resumen_data)\n",
    "\n",
    "    # Devolver el resumen\n",
    "    return resumen\n"
   ],
   "id": "52a0efa4615a7046",
   "outputs": [],
   "execution_count": null
  },
  {
   "metadata": {},
   "cell_type": "code",
   "source": "analizar_df(df_csv)",
   "id": "693f90227a927b5e",
   "outputs": [],
   "execution_count": null
  },
  {
   "metadata": {},
   "cell_type": "code",
   "source": "analizar_df(df_pkl)",
   "id": "8d35c3cbdec1e0c2",
   "outputs": [],
   "execution_count": null
  },
  {
   "metadata": {},
   "cell_type": "markdown",
   "source": [
    "Observamos diferencias en la cantidad de nulos y cadenas vacías.\n",
    "Decidimos reemplazar los valores nulos por cadenas vacías para mantener un criterio en común entre los dos data frames"
   ],
   "id": "cffc892d59bdcfae"
  },
  {
   "metadata": {},
   "cell_type": "code",
   "source": [
    "# Reemplazar valores nulos por strings vacíos en todas las columnas\n",
    "df_csv = df_csv.fillna('')"
   ],
   "id": "3e13a4db53139d4",
   "outputs": [],
   "execution_count": null
  },
  {
   "metadata": {},
   "cell_type": "code",
   "source": [
    "# Reemplazar valores nulos por strings vacíos en todas las columnas\n",
    "df_pkl = df_pkl.fillna('')"
   ],
   "id": "ddc382717fa8c7ec",
   "outputs": [],
   "execution_count": null
  },
  {
   "metadata": {},
   "cell_type": "code",
   "source": [
    "analizar_csv_resultado = analizar_df(df_csv)\n",
    "analizar_csv_resultado"
   ],
   "id": "1ce33e8e940b5b15",
   "outputs": [],
   "execution_count": null
  },
  {
   "metadata": {},
   "cell_type": "code",
   "source": [
    "analizar_pkl_resultado = analizar_df(df_pkl)\n",
    "analizar_pkl_resultado"
   ],
   "id": "d3d1fe401a099b8e",
   "outputs": [],
   "execution_count": null
  },
  {
   "metadata": {},
   "cell_type": "markdown",
   "source": "Evaluamos las diferencias que continuan entre los dos data frames",
   "id": "cbf419c81f92df2d"
  },
  {
   "metadata": {},
   "cell_type": "code",
   "source": [
    "# Reset index y alinear - los DataFrames deben estar alineados correctamente antes de compararlos\n",
    "df_csv_reset = df_csv.reset_index(drop=True)\n",
    "df_pkl_reset = df_pkl.reset_index(drop=True)\n",
    "\n",
    "df_csv_aligned, df_pkl_aligned = df_csv_reset.align(df_pkl_reset)"
   ],
   "id": "66b08ed64871e5fb",
   "outputs": [],
   "execution_count": null
  },
  {
   "metadata": {},
   "cell_type": "code",
   "source": [
    "differencias_analisis = analizar_csv_resultado.compare(analizar_pkl_resultado)\n",
    "# Identificar las filas completas con diferencias\n",
    "differences_indices = differencias_analisis.index\n",
    "df_csv_diff = analizar_csv_resultado.loc[differences_indices]\n",
    "df_pkl_diff = analizar_pkl_resultado.loc[differences_indices]"
   ],
   "id": "d64f8f7c744fd15c",
   "outputs": [],
   "execution_count": null
  },
  {
   "metadata": {},
   "cell_type": "code",
   "source": [
    "# Mostrar las filas completas con diferencias\n",
    "print(\"En el DataFrame CSV:\")\n",
    "df_csv_diff"
   ],
   "id": "3223dcd89969e3f1",
   "outputs": [],
   "execution_count": null
  },
  {
   "metadata": {},
   "cell_type": "code",
   "source": [
    "print(\"En el DataFrame PKL:\")\n",
    "df_pkl_diff"
   ],
   "id": "453ef1d25eedd2e9",
   "outputs": [],
   "execution_count": null
  },
  {
   "metadata": {},
   "cell_type": "code",
   "source": [
    "def comparar_columnas(df1, df2):\n",
    "    \"\"\"\n",
    "    Compara las columnas de dos DataFrames y muestra las diferencias.\n",
    "\n",
    "    Args:\n",
    "        df1 (pd.DataFrame): Primer DataFrame a comparar.\n",
    "        df2 (pd.DataFrame): Segundo DataFrame a comparar.\n",
    "    \"\"\"\n",
    "    # Verificar si ambos DataFrames tienen las mismas columnas\n",
    "    if not df1.columns.equals(df2.columns):\n",
    "        print(\"Los DataFrames no tienen las mismas columnas.\")\n",
    "        return\n",
    "\n",
    "    for column in df1.columns:\n",
    "        # Normalizar listas y tuplas en las columnas que contienen listas o tuplas\n",
    "        if df1[column].apply(lambda x: isinstance(x, (list, tuple))).any():\n",
    "            col1 = df1[column].apply(lambda x: sorted(x) if isinstance(x, (list, tuple)) else x)\n",
    "            col2 = df2[column].apply(lambda x: sorted(x) if isinstance(x, (list, tuple)) else x)\n",
    "            col1 = col1.apply(lambda x: str(x) if isinstance(x, (list, tuple)) else x)\n",
    "            col2 = col2.apply(lambda x: str(x) if isinstance(x, (list, tuple)) else x)\n",
    "        else:\n",
    "            col1 = df1[column]\n",
    "            col2 = df2[column]\n",
    "\n",
    "        if col1.equals(col2):\n",
    "            print(f\"La columna '{column}' es idéntica en ambos DataFrames.\")\n",
    "        else:\n",
    "            print(f\"Diferencias encontradas en la columna '{column}':\")\n",
    "            differences = col1.compare(col2)\n",
    "            print(differences)"
   ],
   "id": "548dfa9f14a05700",
   "outputs": [],
   "execution_count": null
  },
  {
   "metadata": {},
   "cell_type": "code",
   "source": "comparar_columnas(df_csv_aligned, df_pkl_aligned)",
   "id": "af74954e0449de87",
   "outputs": [],
   "execution_count": null
  },
  {
   "metadata": {},
   "cell_type": "markdown",
   "source": "Se observan diferencias en las columnas 'athletes' y 'country_code'.",
   "id": "d5ba60a4e8a384c3"
  },
  {
   "metadata": {},
   "cell_type": "code",
   "source": [
    "#Evaluamos country_code\n",
    "csv_country_code = df_csv_aligned['country_code']\n",
    "pkl_country_code = df_pkl_aligned['country_code']\n",
    "\n",
    "print(f\"Diferencias encontradas en la columna 'country_code':\")\n",
    "diferencia_cc = csv_country_code.compare(pkl_country_code)\n",
    "print(f\"{len(diferencia_cc)} filas\")\n",
    "diferencia_cc"
   ],
   "id": "bb1e7ec8399079b4",
   "outputs": [],
   "execution_count": null
  },
  {
   "metadata": {},
   "cell_type": "code",
   "source": [
    "# Identificar las filas completas con diferencias de country_code\n",
    "diferencia_cc_indices = diferencia_cc.index\n",
    "df_csv_diff_cc = df_csv_aligned.loc[diferencia_cc_indices]\n",
    "df_pkl_diff_cc = df_pkl_aligned.loc[diferencia_cc_indices]"
   ],
   "id": "eabcd2b76f9927dd",
   "outputs": [],
   "execution_count": null
  },
  {
   "metadata": {},
   "cell_type": "code",
   "source": [
    "# Mostrar las filas completas con diferencias\n",
    "print(\"En el DataFrame CSV:\")\n",
    "df_csv_diff_cc"
   ],
   "id": "ce638b04424ed23b",
   "outputs": [],
   "execution_count": null
  },
  {
   "metadata": {},
   "cell_type": "code",
   "source": [
    "print(\"En el DataFrame PKL:\")\n",
    "df_pkl_diff_cc"
   ],
   "id": "44a8847e4cacf78e",
   "outputs": [],
   "execution_count": null
  },
  {
   "metadata": {},
   "cell_type": "code",
   "source": "comparar_columnas(df_csv_diff_cc, df_pkl_diff_cc)",
   "id": "8266ef8c886e31ef",
   "outputs": [],
   "execution_count": null
  },
  {
   "metadata": {},
   "cell_type": "code",
   "source": "df_csv_diff_cc[['country_name', 'country_code', 'country_3_letter_code']]",
   "id": "4ce88a4eeab58aba",
   "outputs": [],
   "execution_count": null
  },
  {
   "metadata": {},
   "cell_type": "code",
   "source": "df_pkl_diff_cc[['country_name', 'country_code', 'country_3_letter_code']]",
   "id": "4c6051ded07511da",
   "outputs": [],
   "execution_count": null
  },
  {
   "metadata": {},
   "cell_type": "markdown",
   "source": "Observamos diferencias para el código del país \"Namibia\", probablemente causadas por la coincidencia con \"Not Available\" de Python. Decidimos aplicar el código de país \"NA\" a todas las filas con país \"Namibia\" en el df proveniente del CSV",
   "id": "232857c9599842e"
  },
  {
   "metadata": {},
   "cell_type": "code",
   "source": "df_csv_aligned.loc[df_csv_aligned['country_name'] == 'Namibia', 'country_code'] = 'NA'",
   "id": "e8e8105f1fb31026",
   "outputs": [],
   "execution_count": null
  },
  {
   "metadata": {},
   "cell_type": "code",
   "source": "comparar_columnas(df_csv_aligned, df_pkl_aligned)",
   "id": "4e378cca3ce244e9",
   "outputs": [],
   "execution_count": null
  },
  {
   "metadata": {},
   "cell_type": "code",
   "source": [
    "#Evaluamos athletes\n",
    "csv_athletes = df_csv_aligned['athletes']\n",
    "pkl_athletes = df_pkl_aligned['athletes']\n",
    "\n",
    "print(f\"Diferencias encontradas en la columna 'athletes':\")\n",
    "diferencia_at = csv_athletes.compare(pkl_athletes)\n",
    "print(f\"{len(diferencia_at)} filas\")\n",
    "diferencia_at"
   ],
   "id": "5f93d47fa14f3aed",
   "outputs": [],
   "execution_count": null
  },
  {
   "metadata": {},
   "cell_type": "code",
   "source": [
    "# Identificar las filas completas con diferencias de athletes\n",
    "diferencia_at_indices = diferencia_at.index\n",
    "df_csv_diff_at = df_csv_aligned.loc[diferencia_at_indices]\n",
    "df_pkl_diff_at = df_pkl_aligned.loc[diferencia_at_indices]"
   ],
   "id": "2b93af5e52be68df",
   "outputs": [],
   "execution_count": null
  },
  {
   "metadata": {},
   "cell_type": "code",
   "source": [
    "# Mostrar las filas completas con diferencias\n",
    "print(\"En el DataFrame CSV:\")\n",
    "df_csv_diff_at"
   ],
   "id": "d1f20e57282f7a5a",
   "outputs": [],
   "execution_count": null
  },
  {
   "metadata": {},
   "cell_type": "code",
   "source": [
    "print(\"En el DataFrame PKL:\")\n",
    "df_pkl_diff_at"
   ],
   "id": "7b8ea0520eda5b88",
   "outputs": [],
   "execution_count": null
  },
  {
   "metadata": {},
   "cell_type": "markdown",
   "source": "Se observa diferencia de formato la columna athletes",
   "id": "c0ae1e894d4a68c4"
  },
  {
   "metadata": {},
   "cell_type": "code",
   "source": [
    "def identificar_tipos(df, column_name):\n",
    "    \"\"\"\n",
    "    Identifica y resume los tipos de datos de los elementos en una columna.\n",
    "\n",
    "    Args:\n",
    "        df (pd.DataFrame): DataFrame que contiene la columna.\n",
    "        column_name (str): Nombre de la columna a inspeccionar.\n",
    "    \"\"\"\n",
    "    types_summary = df[column_name].apply(lambda x: type(x).__name__).value_counts()\n",
    "    print(f\"Resumen de tipos de datos en la columna '{column_name}':\")\n",
    "    print(types_summary)"
   ],
   "id": "15ec9263db2ba943",
   "outputs": [],
   "execution_count": null
  },
  {
   "metadata": {},
   "cell_type": "code",
   "source": "identificar_tipos(df_csv_aligned, 'athletes')",
   "id": "cb36ddd4b4d35732",
   "outputs": [],
   "execution_count": null
  },
  {
   "metadata": {},
   "cell_type": "code",
   "source": "identificar_tipos(df_pkl_aligned, 'athletes')",
   "id": "db10c2d67d06411c",
   "outputs": [],
   "execution_count": null
  },
  {
   "metadata": {},
   "cell_type": "code",
   "source": [
    "import ast\n",
    "\n",
    "def convertir_string_a_list(x):\n",
    "    \"\"\"\n",
    "    Convierte strings que representan listas o tuplas a objetos reales.\n",
    "    \"\"\"\n",
    "    try:\n",
    "        return ast.literal_eval(x)\n",
    "    except (ValueError, SyntaxError):\n",
    "        return x"
   ],
   "id": "2e8de871c0ecf61f",
   "outputs": [],
   "execution_count": null
  },
  {
   "metadata": {},
   "cell_type": "code",
   "source": [
    "# Aplicar la función a la columna athletes proveniente del csv\n",
    "df_csv_aligned['athletes_converted'] = df_csv_aligned['athletes'].apply(convertir_string_a_list)"
   ],
   "id": "4755d3f6755ad7b4",
   "outputs": [],
   "execution_count": null
  },
  {
   "metadata": {},
   "cell_type": "code",
   "source": "identificar_tipos(df_csv_aligned, 'athletes_converted')",
   "id": "e4ec0292c7a82aef",
   "outputs": [],
   "execution_count": null
  },
  {
   "metadata": {},
   "cell_type": "code",
   "source": "df_csv_aligned['athletes'] = df_csv_aligned['athletes_converted']",
   "id": "f9b5189ee4fd0378",
   "outputs": [],
   "execution_count": null
  },
  {
   "metadata": {},
   "cell_type": "code",
   "source": "df_csv_aligned = df_csv_aligned.drop(columns=['athletes_converted'])",
   "id": "aba99f1dcf84f737",
   "outputs": [],
   "execution_count": null
  },
  {
   "metadata": {},
   "cell_type": "code",
   "source": "comparar_columnas(df_csv_aligned, df_pkl_aligned)",
   "id": "3f052e5787fb0da7",
   "outputs": [],
   "execution_count": null
  },
  {
   "metadata": {},
   "cell_type": "markdown",
   "source": "Confirmamos que los datos de estos archivos coinciden, y optamos por usar la versión PKL para evitar el error con el país \"Namibia\".",
   "id": "b78b4178cba28d0c"
  },
  {
   "metadata": {},
   "cell_type": "code",
   "source": "df_pkl.to_csv('datos/raw/olympic_results_from_pkl.csv')",
   "id": "a156bd06e971314f",
   "outputs": [],
   "execution_count": null
  }
 ],
 "metadata": {
  "kernelspec": {
   "display_name": "Python 3",
   "language": "python",
   "name": "python3"
  },
  "language_info": {
   "codemirror_mode": {
    "name": "ipython",
    "version": 2
   },
   "file_extension": ".py",
   "mimetype": "text/x-python",
   "name": "python",
   "nbconvert_exporter": "python",
   "pygments_lexer": "ipython2",
   "version": "2.7.6"
  }
 },
 "nbformat": 4,
 "nbformat_minor": 5
}
