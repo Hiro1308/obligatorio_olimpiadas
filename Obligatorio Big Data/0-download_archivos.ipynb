{
 "nbformat": 4,
 "nbformat_minor": 0,
 "metadata": {
  "colab": {
   "provenance": []
  },
  "kernelspec": {
   "name": "python3",
   "display_name": "Python 3 (ipykernel)",
   "language": "python"
  },
  "language_info": {
   "name": "python"
  }
 },
 "cells": [
  {
   "cell_type": "markdown",
   "source": [
    "**Descarga de archivos originales**"
   ],
   "metadata": {
    "id": "tv1zmazdusdF"
   }
  },
  {
   "cell_type": "code",
   "source": [
    "import os\n",
    "\n",
    "# Definimos el path del nuevo directorio, carpeta landing\n",
    "new_dir_path = 'datos/landing'\n",
    "\n",
    "# Crear el directorio\n",
    "os.makedirs(new_dir_path, exist_ok=True)"
   ],
   "metadata": {
    "id": "4VdBGzTctlEM",
    "ExecuteTime": {
     "end_time": "2024-07-08T01:08:47.927500Z",
     "start_time": "2024-07-08T01:08:47.912310Z"
    }
   },
   "outputs": [],
   "execution_count": 3
  },
  {
   "cell_type": "code",
   "source": [
    "import urllib.request\n",
    "\n",
    "# URLs de archivos a bajar\n",
    "urls = [\n",
    "    'https://olympicsbigdata.s3.amazonaws.com/olympic_athletes.csv',\n",
    "    'https://olympicsbigdata.s3.amazonaws.com/olympic_hosts.csv',\n",
    "    'https://olympicsbigdata.s3.amazonaws.com/olympic_medals.csv',\n",
    "    'https://olympicsbigdata.s3.amazonaws.com/olympic_results.csv',\n",
    "    'https://olympicsbigdata.s3.amazonaws.com/olympic_results.pkl'\n",
    "]\n",
    "\n",
    "# Bajar cada uno de los archivos\n",
    "for url in urls:\n",
    "    # Extraer el nombre del archivo de la URL\n",
    "    file_name = os.path.basename(url)\n",
    "    # Definir el patch completo\n",
    "    file_path = os.path.join(new_dir_path, file_name)\n",
    "    # Bajar el archivo de la URL\n",
    "    urllib.request.urlretrieve(url, file_path)"
   ],
   "metadata": {
    "id": "fDK7zHb2t3bt",
    "ExecuteTime": {
     "end_time": "2024-07-08T01:09:05.839012Z",
     "start_time": "2024-07-08T01:08:47.930729Z"
    }
   },
   "outputs": [],
   "execution_count": 4
  }
 ]
}
