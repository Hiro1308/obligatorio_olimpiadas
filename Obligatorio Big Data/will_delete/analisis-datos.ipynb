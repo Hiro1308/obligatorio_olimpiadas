{
 "cells": [
  {
   "cell_type": "code",
   "id": "b28e1e35-f6a4-4159-8632-4a6f5a7fdc1c",
   "metadata": {
    "scrolled": true,
    "ExecuteTime": {
     "end_time": "2024-07-06T06:01:51.362384Z",
     "start_time": "2024-07-06T06:01:49.595891Z"
    }
   },
   "source": [
    "import pandas as pd\n",
    "\n",
    "# ======= CARGA DE ARCHIVOS =======\n",
    "\n",
    "df_athletes = pd.read_csv('datos/raw/olympic_athletes.csv')\n",
    "df_hosts = pd.read_csv('datos/raw/olympic_hosts.csv')\n",
    "df_medals = pd.read_csv('datos/raw/olympic_medals.csv')\n",
    "df_results = pd.read_csv('datos/raw/olympic_results.csv')\n",
    "df_results_pkl = pd.read_pickle('datos/raw/olympic_results.pkl')"
   ],
   "outputs": [],
   "execution_count": 1
  },
  {
   "cell_type": "code",
   "id": "59b77c31-3dbc-4e1c-a6d9-3940117da15b",
   "metadata": {
    "scrolled": true
   },
   "source": [
    "# ======= ANALISIS DE DATOS =======\n",
    "\n",
    "def spacer():\n",
    "    print(\"\\n\\n\")\n",
    "    print(\"===============================================\")\n",
    "    print(\"\\n\\n\")\n",
    "\n",
    "\n",
    "# Hacemos una función para mostrar información básica de cada DataFrame\n",
    "def analizar_dataset(df, nombre):\n",
    "    print(f\"====== Dataset: {nombre} ======\")\n",
    "    print(\"Primeras rows:\")\n",
    "    display(df.head())\n",
    "\n",
    "    spacer()\n",
    "\n",
    "    print(f\"\\nInformación básica del DataFrame: {nombre}\")\n",
    "    df.info()\n",
    "\n",
    "    spacer()\n",
    "\n",
    "    print(\"\\nDescripción estadística:\")\n",
    "    display(df.describe(include='all'))\n",
    "\n",
    "    spacer()\n",
    "\n",
    "    print(\"\\nValores nulos por columna:\")\n",
    "    display(df.isnull().sum())\n",
    "\n",
    "    spacer()\n",
    "\n",
    "    print(\"\\nRegistros duplicados:\")\n",
    "    display(df.duplicated().sum())\n",
    "\n",
    "    spacer()\n",
    "\n",
    "    print(\"\\nColumnas:\")\n",
    "    for col in df.columns:\n",
    "        print(col)\n",
    "\n",
    "    spacer()\n",
    "\n",
    "\n",
    "# Ejecutamos la función por cada uno de los datasets\n",
    "analizar_dataset(df_athletes, 'Atletas')\n",
    "analizar_dataset(df_hosts, 'Hosts')\n",
    "analizar_dataset(df_medals, 'Medallas')\n",
    "analizar_dataset(df_results, 'Resultados')"
   ],
   "outputs": [],
   "execution_count": null
  },
  {
   "cell_type": "code",
   "id": "69e389f1-1949-4a0d-afe2-472eef8c0b4e",
   "metadata": {},
   "source": [
    "# ======= MERGEO DE DATOS =======\n",
    "\n",
    "# Merge de los DataFrames usando la columna 'athlete_url'\n",
    "df_athletes_medals = pd.merge(df_medals, df_athletes, on='athlete_url', how='left')\n",
    "# Eliminamos columnas repetidas\n",
    "df_athletes_medals.drop(columns=['athlete_full_name_y'], inplace=True)\n",
    "df_athletes_medals.rename(columns={'athlete_full_name_x': 'athlete_full_name'}, inplace=True)\n",
    "df_athletes_medals.head()"
   ],
   "outputs": [],
   "execution_count": null
  },
  {
   "cell_type": "code",
   "id": "e6d28fa5-4fac-4f73-9f43-f4362cea3f45",
   "metadata": {},
   "source": [
    "# ======= LIMPIEZA DE DATOS =======\n",
    "\n",
    "# Función para limpiar datos\n",
    "def limpiar_datos(df):\n",
    "    # Eliminamos filas con valores nulos\n",
    "    df.dropna(inplace=True)\n",
    "    # Llenamos valores nulos con 0 (o cualquier otro valor)\n",
    "    df.fillna(0, inplace=True)\n",
    "\n",
    "    return df\n",
    "\n",
    "# Limpiamos todos los Dataframes y los guardamos en unos nuevos\n",
    "df_athletes_medals_clean = limpiar_datos(df_athletes_medals)\n",
    "df_hosts_clean = limpiar_datos(df_hosts)\n",
    "df_results_clean = limpiar_datos(df_results)\n",
    "\n",
    "# Guardamos los DataFrames limpios en otra carpeta\n",
    "df_athletes_medals_clean.to_csv('datos/refined/olympic_athletes_medals.csv', index=False)\n",
    "df_hosts_clean.to_csv('datos/refined/olympic_hosts.csv', index=False)\n",
    "df_results_clean.to_csv('datos/refined/olympic_results.csv', index=False)"
   ],
   "outputs": [],
   "execution_count": null
  },
  {
   "cell_type": "code",
   "id": "ecd1b152-6bee-4108-809f-b451bc07fed0",
   "metadata": {},
   "source": [],
   "outputs": [],
   "execution_count": null
  }
 ],
 "metadata": {
  "kernelspec": {
   "display_name": "Python 3 (ipykernel)",
   "language": "python",
   "name": "python3"
  },
  "language_info": {
   "codemirror_mode": {
    "name": "ipython",
    "version": 3
   },
   "file_extension": ".py",
   "mimetype": "text/x-python",
   "name": "python",
   "nbconvert_exporter": "python",
   "pygments_lexer": "ipython3",
   "version": "3.11.7"
  }
 },
 "nbformat": 4,
 "nbformat_minor": 5
}
